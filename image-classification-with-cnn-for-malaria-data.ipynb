{
 "cells": [
  {
   "cell_type": "code",
   "execution_count": 1,
   "id": "dd8f0ef1",
   "metadata": {
    "execution": {
     "iopub.execute_input": "2022-08-17T09:14:57.706311Z",
     "iopub.status.busy": "2022-08-17T09:14:57.705463Z",
     "iopub.status.idle": "2022-08-17T09:15:03.169113Z",
     "shell.execute_reply": "2022-08-17T09:15:03.168116Z"
    },
    "papermill": {
     "duration": 5.472078,
     "end_time": "2022-08-17T09:15:03.171608",
     "exception": false,
     "start_time": "2022-08-17T09:14:57.699530",
     "status": "completed"
    },
    "tags": []
   },
   "outputs": [],
   "source": [
    "import tensorflow as tf\n",
    "from tensorflow.keras import Sequential\n",
    "from tensorflow.keras.layers import Conv2D,MaxPool2D,Dropout,Flatten,Dense,BatchNormalization\n",
    "from tensorflow.keras.preprocessing.image import ImageDataGenerator\n",
    "from tensorflow.keras.callbacks import EarlyStopping"
   ]
  },
  {
   "cell_type": "markdown",
   "id": "1e72df61",
   "metadata": {
    "papermill": {
     "duration": 0.003304,
     "end_time": "2022-08-17T09:15:03.178539",
     "exception": false,
     "start_time": "2022-08-17T09:15:03.175235",
     "status": "completed"
    },
    "tags": []
   },
   "source": [
    "#### Colab GPU acilmadigindan, kaggle notebook kullandim"
   ]
  },
  {
   "cell_type": "code",
   "execution_count": 2,
   "id": "cafede43",
   "metadata": {
    "_cell_guid": "b1076dfc-b9ad-4769-8c92-a6c4dae69d19",
    "_uuid": "8f2839f25d086af736a60e9eeb907d3b93b6e0e5",
    "execution": {
     "iopub.execute_input": "2022-08-17T09:15:03.188044Z",
     "iopub.status.busy": "2022-08-17T09:15:03.186115Z",
     "iopub.status.idle": "2022-08-17T09:15:03.191573Z",
     "shell.execute_reply": "2022-08-17T09:15:03.190649Z"
    },
    "papermill": {
     "duration": 0.011611,
     "end_time": "2022-08-17T09:15:03.193508",
     "exception": false,
     "start_time": "2022-08-17T09:15:03.181897",
     "status": "completed"
    },
    "tags": []
   },
   "outputs": [],
   "source": [
    "import numpy as np\n",
    "import pandas as pd\n",
    "import matplotlib.pyplot as plt"
   ]
  },
  {
   "cell_type": "code",
   "execution_count": 3,
   "id": "9f8c8b28",
   "metadata": {
    "execution": {
     "iopub.execute_input": "2022-08-17T09:15:03.201062Z",
     "iopub.status.busy": "2022-08-17T09:15:03.200775Z",
     "iopub.status.idle": "2022-08-17T09:15:03.242869Z",
     "shell.execute_reply": "2022-08-17T09:15:03.241931Z"
    },
    "papermill": {
     "duration": 0.049219,
     "end_time": "2022-08-17T09:15:03.245859",
     "exception": false,
     "start_time": "2022-08-17T09:15:03.196640",
     "status": "completed"
    },
    "tags": []
   },
   "outputs": [
    {
     "name": "stdout",
     "output_type": "stream",
     "text": [
      "(133, 136)\n",
      "(142, 133)\n",
      "(127, 133)\n"
     ]
    }
   ],
   "source": [
    "from PIL import Image\n",
    "\n",
    "im = Image.open('../input/cell-images-for-detecting-malaria/cell_images/Parasitized/C100P61ThinF_IMG_20150918_144348_cell_144.png')\n",
    "print(im.size)\n",
    "im = Image.open('../input/cell-images-for-detecting-malaria/cell_images/Parasitized/C100P61ThinF_IMG_20150918_144823_cell_160.png')\n",
    "print(im.size)\n",
    "im = Image.open('../input/cell-images-for-detecting-malaria/cell_images/Parasitized/C100P61ThinF_IMG_20150918_145422_cell_163.png')\n",
    "print(im.size)"
   ]
  },
  {
   "cell_type": "markdown",
   "id": "f2a8354b",
   "metadata": {
    "papermill": {
     "duration": 0.002999,
     "end_time": "2022-08-17T09:15:03.252993",
     "exception": false,
     "start_time": "2022-08-17T09:15:03.249994",
     "status": "completed"
    },
    "tags": []
   },
   "source": [
    "***3 resminde boyutlari farkli bu yuzden daha tek bir boyut belirlemeliyiz***"
   ]
  },
  {
   "cell_type": "code",
   "execution_count": 4,
   "id": "a2ac41d5",
   "metadata": {
    "execution": {
     "iopub.execute_input": "2022-08-17T09:15:03.261276Z",
     "iopub.status.busy": "2022-08-17T09:15:03.260429Z",
     "iopub.status.idle": "2022-08-17T09:15:03.266574Z",
     "shell.execute_reply": "2022-08-17T09:15:03.265710Z"
    },
    "papermill": {
     "duration": 0.012316,
     "end_time": "2022-08-17T09:15:03.268601",
     "exception": false,
     "start_time": "2022-08-17T09:15:03.256285",
     "status": "completed"
    },
    "tags": []
   },
   "outputs": [],
   "source": [
    "from tensorflow.keras.preprocessing.image import ImageDataGenerator\n",
    "datagen = ImageDataGenerator(rescale=1/255.0, validation_split=0.2)"
   ]
  },
  {
   "cell_type": "markdown",
   "id": "c46a1e0d",
   "metadata": {
    "papermill": {
     "duration": 0.002955,
     "end_time": "2022-08-17T09:15:03.274716",
     "exception": false,
     "start_time": "2022-08-17T09:15:03.271761",
     "status": "completed"
    },
    "tags": []
   },
   "source": [
    "**directory:** *string, path to the target directory. It should contain one subdirectory per class. Any PNG, JPG, BMP, PPM or TIF images inside each of the subdirectories directory tree will be included in the generator.*\n",
    "\n",
    "**target_size:** *Tuple of integers (height, width), defaults to (256,256). The dimensions to which all images found will be resized.*\n",
    "\n",
    "**class_mode:** *One of \"categorical\", \"binary\", \"sparse\", \"input\", or None. Determines the type of label arrays that are returned: \"binary\" will be 1D binary labels, \"sparse\" will be 1D integer labels,*\n",
    "\n",
    "**batch_size:** *Size of the batches of data (default: 32).*\n",
    "\n",
    "**subset:** *Subset of data (\"training\" or \"validation\") if validation_split is set in ImageDataGenerator.*"
   ]
  },
  {
   "cell_type": "code",
   "execution_count": 5,
   "id": "43f6f7fa",
   "metadata": {
    "execution": {
     "iopub.execute_input": "2022-08-17T09:15:03.282865Z",
     "iopub.status.busy": "2022-08-17T09:15:03.282060Z",
     "iopub.status.idle": "2022-08-17T09:15:31.532284Z",
     "shell.execute_reply": "2022-08-17T09:15:31.530636Z"
    },
    "papermill": {
     "duration": 28.256421,
     "end_time": "2022-08-17T09:15:31.534518",
     "exception": false,
     "start_time": "2022-08-17T09:15:03.278097",
     "status": "completed"
    },
    "tags": []
   },
   "outputs": [
    {
     "name": "stdout",
     "output_type": "stream",
     "text": [
      "Found 22048 images belonging to 2 classes.\n",
      "Found 5510 images belonging to 2 classes.\n"
     ]
    }
   ],
   "source": [
    "width, height = 128,128\n",
    "trainDatagen = datagen.flow_from_directory(directory='../input/cell-images-for-detecting-malaria/cell_images/cell_images/',\n",
    "                                           target_size=(width,height), class_mode = 'binary', batch_size = 16, \n",
    "                                           subset='training')\n",
    "\n",
    "valDatagen = datagen.flow_from_directory(directory='../input/cell-images-for-detecting-malaria/cell_images/cell_images/',\n",
    "                                           target_size=(width,height), class_mode = 'binary', batch_size = 16,\n",
    "                                           subset='validation')"
   ]
  },
  {
   "cell_type": "code",
   "execution_count": 6,
   "id": "c2248680",
   "metadata": {
    "execution": {
     "iopub.execute_input": "2022-08-17T09:15:31.543349Z",
     "iopub.status.busy": "2022-08-17T09:15:31.543047Z",
     "iopub.status.idle": "2022-08-17T09:15:34.551123Z",
     "shell.execute_reply": "2022-08-17T09:15:34.546413Z"
    },
    "papermill": {
     "duration": 3.015791,
     "end_time": "2022-08-17T09:15:34.554362",
     "exception": false,
     "start_time": "2022-08-17T09:15:31.538571",
     "status": "completed"
    },
    "tags": []
   },
   "outputs": [
    {
     "name": "stderr",
     "output_type": "stream",
     "text": [
      "2022-08-17 09:15:31.637256: I tensorflow/stream_executor/cuda/cuda_gpu_executor.cc:937] successful NUMA node read from SysFS had negative value (-1), but there must be at least one NUMA node, so returning NUMA node zero\n",
      "2022-08-17 09:15:31.747552: I tensorflow/stream_executor/cuda/cuda_gpu_executor.cc:937] successful NUMA node read from SysFS had negative value (-1), but there must be at least one NUMA node, so returning NUMA node zero\n",
      "2022-08-17 09:15:31.748407: I tensorflow/stream_executor/cuda/cuda_gpu_executor.cc:937] successful NUMA node read from SysFS had negative value (-1), but there must be at least one NUMA node, so returning NUMA node zero\n",
      "2022-08-17 09:15:31.750192: I tensorflow/core/platform/cpu_feature_guard.cc:142] This TensorFlow binary is optimized with oneAPI Deep Neural Network Library (oneDNN) to use the following CPU instructions in performance-critical operations:  AVX2 AVX512F FMA\n",
      "To enable them in other operations, rebuild TensorFlow with the appropriate compiler flags.\n",
      "2022-08-17 09:15:31.750469: I tensorflow/stream_executor/cuda/cuda_gpu_executor.cc:937] successful NUMA node read from SysFS had negative value (-1), but there must be at least one NUMA node, so returning NUMA node zero\n",
      "2022-08-17 09:15:31.751204: I tensorflow/stream_executor/cuda/cuda_gpu_executor.cc:937] successful NUMA node read from SysFS had negative value (-1), but there must be at least one NUMA node, so returning NUMA node zero\n",
      "2022-08-17 09:15:31.751845: I tensorflow/stream_executor/cuda/cuda_gpu_executor.cc:937] successful NUMA node read from SysFS had negative value (-1), but there must be at least one NUMA node, so returning NUMA node zero\n",
      "2022-08-17 09:15:33.975552: I tensorflow/stream_executor/cuda/cuda_gpu_executor.cc:937] successful NUMA node read from SysFS had negative value (-1), but there must be at least one NUMA node, so returning NUMA node zero\n",
      "2022-08-17 09:15:33.976452: I tensorflow/stream_executor/cuda/cuda_gpu_executor.cc:937] successful NUMA node read from SysFS had negative value (-1), but there must be at least one NUMA node, so returning NUMA node zero\n",
      "2022-08-17 09:15:33.977121: I tensorflow/stream_executor/cuda/cuda_gpu_executor.cc:937] successful NUMA node read from SysFS had negative value (-1), but there must be at least one NUMA node, so returning NUMA node zero\n",
      "2022-08-17 09:15:33.977716: I tensorflow/core/common_runtime/gpu/gpu_device.cc:1510] Created device /job:localhost/replica:0/task:0/device:GPU:0 with 15403 MB memory:  -> device: 0, name: Tesla P100-PCIE-16GB, pci bus id: 0000:00:04.0, compute capability: 6.0\n"
     ]
    }
   ],
   "source": [
    "model = Sequential()\n",
    "model.add(Conv2D(16,(3,3),activation='relu',input_shape=(128,128,3)))\n",
    "model.add(MaxPool2D(2,2))\n",
    "model.add(Dropout(0.2))\n",
    "\n",
    "model.add(Conv2D(32,(3,3),activation='relu'))\n",
    "model.add(MaxPool2D(2,2))\n",
    "model.add(Dropout(0.3))\n",
    "\n",
    "model.add(Conv2D(64,(3,3),activation='relu'))\n",
    "model.add(MaxPool2D(2,2))\n",
    "model.add(Dropout(0.3))\n",
    "\n",
    "model.add(Flatten())\n",
    "model.add(Dense(64,activation='relu'))\n",
    "model.add(Dropout(0.5))\n",
    "\n",
    "model.add(Dense(1,activation='sigmoid'))"
   ]
  },
  {
   "cell_type": "code",
   "execution_count": 7,
   "id": "c7779977",
   "metadata": {
    "execution": {
     "iopub.execute_input": "2022-08-17T09:15:34.567558Z",
     "iopub.status.busy": "2022-08-17T09:15:34.566938Z",
     "iopub.status.idle": "2022-08-17T09:15:34.574348Z",
     "shell.execute_reply": "2022-08-17T09:15:34.573247Z"
    },
    "papermill": {
     "duration": 0.018982,
     "end_time": "2022-08-17T09:15:34.579202",
     "exception": false,
     "start_time": "2022-08-17T09:15:34.560220",
     "status": "completed"
    },
    "tags": []
   },
   "outputs": [
    {
     "name": "stdout",
     "output_type": "stream",
     "text": [
      "Model: \"sequential\"\n",
      "_________________________________________________________________\n",
      "Layer (type)                 Output Shape              Param #   \n",
      "=================================================================\n",
      "conv2d (Conv2D)              (None, 126, 126, 16)      448       \n",
      "_________________________________________________________________\n",
      "max_pooling2d (MaxPooling2D) (None, 63, 63, 16)        0         \n",
      "_________________________________________________________________\n",
      "dropout (Dropout)            (None, 63, 63, 16)        0         \n",
      "_________________________________________________________________\n",
      "conv2d_1 (Conv2D)            (None, 61, 61, 32)        4640      \n",
      "_________________________________________________________________\n",
      "max_pooling2d_1 (MaxPooling2 (None, 30, 30, 32)        0         \n",
      "_________________________________________________________________\n",
      "dropout_1 (Dropout)          (None, 30, 30, 32)        0         \n",
      "_________________________________________________________________\n",
      "conv2d_2 (Conv2D)            (None, 28, 28, 64)        18496     \n",
      "_________________________________________________________________\n",
      "max_pooling2d_2 (MaxPooling2 (None, 14, 14, 64)        0         \n",
      "_________________________________________________________________\n",
      "dropout_2 (Dropout)          (None, 14, 14, 64)        0         \n",
      "_________________________________________________________________\n",
      "flatten (Flatten)            (None, 12544)             0         \n",
      "_________________________________________________________________\n",
      "dense (Dense)                (None, 64)                802880    \n",
      "_________________________________________________________________\n",
      "dropout_3 (Dropout)          (None, 64)                0         \n",
      "_________________________________________________________________\n",
      "dense_1 (Dense)              (None, 1)                 65        \n",
      "=================================================================\n",
      "Total params: 826,529\n",
      "Trainable params: 826,529\n",
      "Non-trainable params: 0\n",
      "_________________________________________________________________\n"
     ]
    }
   ],
   "source": [
    "model.summary()"
   ]
  },
  {
   "cell_type": "code",
   "execution_count": 8,
   "id": "b9a70d67",
   "metadata": {
    "execution": {
     "iopub.execute_input": "2022-08-17T09:15:34.593115Z",
     "iopub.status.busy": "2022-08-17T09:15:34.592677Z",
     "iopub.status.idle": "2022-08-17T09:15:34.607331Z",
     "shell.execute_reply": "2022-08-17T09:15:34.606508Z"
    },
    "papermill": {
     "duration": 0.023576,
     "end_time": "2022-08-17T09:15:34.609520",
     "exception": false,
     "start_time": "2022-08-17T09:15:34.585944",
     "status": "completed"
    },
    "tags": []
   },
   "outputs": [],
   "source": [
    "model.compile(optimizer='adam',loss='binary_crossentropy',metrics=['accuracy'])"
   ]
  },
  {
   "cell_type": "code",
   "execution_count": 9,
   "id": "01eee766",
   "metadata": {
    "execution": {
     "iopub.execute_input": "2022-08-17T09:15:34.621011Z",
     "iopub.status.busy": "2022-08-17T09:15:34.620667Z",
     "iopub.status.idle": "2022-08-17T09:38:15.004078Z",
     "shell.execute_reply": "2022-08-17T09:38:15.003042Z"
    },
    "papermill": {
     "duration": 1360.391816,
     "end_time": "2022-08-17T09:38:15.006567",
     "exception": false,
     "start_time": "2022-08-17T09:15:34.614751",
     "status": "completed"
    },
    "tags": []
   },
   "outputs": [
    {
     "name": "stderr",
     "output_type": "stream",
     "text": [
      "/opt/conda/lib/python3.7/site-packages/keras/engine/training.py:1972: UserWarning: `Model.fit_generator` is deprecated and will be removed in a future version. Please use `Model.fit`, which supports generators.\n",
      "  warnings.warn('`Model.fit_generator` is deprecated and '\n",
      "2022-08-17 09:15:34.991564: I tensorflow/compiler/mlir/mlir_graph_optimization_pass.cc:185] None of the MLIR Optimization Passes are enabled (registered 2)\n"
     ]
    },
    {
     "name": "stdout",
     "output_type": "stream",
     "text": [
      "Epoch 1/20\n"
     ]
    },
    {
     "name": "stderr",
     "output_type": "stream",
     "text": [
      "2022-08-17 09:15:36.539524: I tensorflow/stream_executor/cuda/cuda_dnn.cc:369] Loaded cuDNN version 8005\n"
     ]
    },
    {
     "name": "stdout",
     "output_type": "stream",
     "text": [
      "1378/1378 [==============================] - 208s 146ms/step - loss: 0.5484 - accuracy: 0.7130 - val_loss: 0.2706 - val_accuracy: 0.9316\n",
      "Epoch 2/20\n",
      "1378/1378 [==============================] - 47s 34ms/step - loss: 0.1948 - accuracy: 0.9404 - val_loss: 0.1852 - val_accuracy: 0.9372\n",
      "Epoch 3/20\n",
      "1378/1378 [==============================] - 47s 34ms/step - loss: 0.1687 - accuracy: 0.9501 - val_loss: 0.1654 - val_accuracy: 0.9376\n",
      "Epoch 4/20\n",
      "1378/1378 [==============================] - 45s 33ms/step - loss: 0.1621 - accuracy: 0.9520 - val_loss: 0.1576 - val_accuracy: 0.9434\n",
      "Epoch 5/20\n",
      "1378/1378 [==============================] - 46s 34ms/step - loss: 0.1478 - accuracy: 0.9548 - val_loss: 0.2228 - val_accuracy: 0.9347\n",
      "Epoch 6/20\n",
      "1378/1378 [==============================] - 48s 34ms/step - loss: 0.1446 - accuracy: 0.9557 - val_loss: 0.1826 - val_accuracy: 0.9390\n",
      "Epoch 7/20\n",
      "1378/1378 [==============================] - 46s 34ms/step - loss: 0.1353 - accuracy: 0.9572 - val_loss: 0.1923 - val_accuracy: 0.9414\n",
      "Epoch 8/20\n",
      "1378/1378 [==============================] - 46s 34ms/step - loss: 0.1328 - accuracy: 0.9573 - val_loss: 0.1957 - val_accuracy: 0.9343\n",
      "Epoch 9/20\n",
      "1378/1378 [==============================] - 47s 34ms/step - loss: 0.1327 - accuracy: 0.9571 - val_loss: 0.1769 - val_accuracy: 0.9374\n",
      "Epoch 10/20\n",
      "1378/1378 [==============================] - 46s 33ms/step - loss: 0.1293 - accuracy: 0.9578 - val_loss: 0.1747 - val_accuracy: 0.9403\n",
      "Epoch 11/20\n",
      "1378/1378 [==============================] - 46s 34ms/step - loss: 0.1256 - accuracy: 0.9589 - val_loss: 0.1534 - val_accuracy: 0.9407\n",
      "Epoch 12/20\n",
      "1378/1378 [==============================] - 48s 35ms/step - loss: 0.1192 - accuracy: 0.9602 - val_loss: 0.1699 - val_accuracy: 0.9396\n",
      "Epoch 13/20\n",
      "1378/1378 [==============================] - 47s 34ms/step - loss: 0.1206 - accuracy: 0.9600 - val_loss: 0.1799 - val_accuracy: 0.9376\n",
      "Epoch 14/20\n",
      "1378/1378 [==============================] - 46s 33ms/step - loss: 0.1173 - accuracy: 0.9609 - val_loss: 0.1759 - val_accuracy: 0.9376\n",
      "Epoch 15/20\n",
      "1378/1378 [==============================] - 47s 34ms/step - loss: 0.1138 - accuracy: 0.9620 - val_loss: 0.1729 - val_accuracy: 0.9381\n",
      "Epoch 16/20\n",
      "1378/1378 [==============================] - 48s 34ms/step - loss: 0.1104 - accuracy: 0.9632 - val_loss: 0.1765 - val_accuracy: 0.9343\n",
      "Epoch 17/20\n",
      "1378/1378 [==============================] - 47s 34ms/step - loss: 0.1056 - accuracy: 0.9631 - val_loss: 0.1711 - val_accuracy: 0.9410\n",
      "Epoch 18/20\n",
      "1378/1378 [==============================] - 47s 34ms/step - loss: 0.1086 - accuracy: 0.9630 - val_loss: 0.1738 - val_accuracy: 0.9423\n",
      "Epoch 19/20\n",
      "1378/1378 [==============================] - 47s 34ms/step - loss: 0.1081 - accuracy: 0.9638 - val_loss: 0.1725 - val_accuracy: 0.9396\n",
      "Epoch 20/20\n",
      "1378/1378 [==============================] - 47s 34ms/step - loss: 0.1034 - accuracy: 0.9650 - val_loss: 0.1874 - val_accuracy: 0.9343\n"
     ]
    }
   ],
   "source": [
    "history = model.fit_generator(generator = trainDatagen, steps_per_epoch = len(trainDatagen), epochs =20, validation_data = valDatagen,\n",
    "                              validation_steps=len(valDatagen))"
   ]
  },
  {
   "cell_type": "code",
   "execution_count": 10,
   "id": "ee1fd5da",
   "metadata": {
    "execution": {
     "iopub.execute_input": "2022-08-17T09:38:16.501162Z",
     "iopub.status.busy": "2022-08-17T09:38:16.500644Z",
     "iopub.status.idle": "2022-08-17T09:38:16.524420Z",
     "shell.execute_reply": "2022-08-17T09:38:16.523504Z"
    },
    "papermill": {
     "duration": 0.799193,
     "end_time": "2022-08-17T09:38:16.526673",
     "exception": false,
     "start_time": "2022-08-17T09:38:15.727480",
     "status": "completed"
    },
    "tags": []
   },
   "outputs": [
    {
     "data": {
      "text/html": [
       "<div>\n",
       "<style scoped>\n",
       "    .dataframe tbody tr th:only-of-type {\n",
       "        vertical-align: middle;\n",
       "    }\n",
       "\n",
       "    .dataframe tbody tr th {\n",
       "        vertical-align: top;\n",
       "    }\n",
       "\n",
       "    .dataframe thead th {\n",
       "        text-align: right;\n",
       "    }\n",
       "</style>\n",
       "<table border=\"1\" class=\"dataframe\">\n",
       "  <thead>\n",
       "    <tr style=\"text-align: right;\">\n",
       "      <th></th>\n",
       "      <th>loss</th>\n",
       "      <th>accuracy</th>\n",
       "      <th>val_loss</th>\n",
       "      <th>val_accuracy</th>\n",
       "    </tr>\n",
       "  </thead>\n",
       "  <tbody>\n",
       "    <tr>\n",
       "      <th>0</th>\n",
       "      <td>0.548380</td>\n",
       "      <td>0.712990</td>\n",
       "      <td>0.270644</td>\n",
       "      <td>0.931579</td>\n",
       "    </tr>\n",
       "    <tr>\n",
       "      <th>1</th>\n",
       "      <td>0.194847</td>\n",
       "      <td>0.940448</td>\n",
       "      <td>0.185248</td>\n",
       "      <td>0.937205</td>\n",
       "    </tr>\n",
       "    <tr>\n",
       "      <th>2</th>\n",
       "      <td>0.168702</td>\n",
       "      <td>0.950109</td>\n",
       "      <td>0.165380</td>\n",
       "      <td>0.937568</td>\n",
       "    </tr>\n",
       "    <tr>\n",
       "      <th>3</th>\n",
       "      <td>0.162092</td>\n",
       "      <td>0.952014</td>\n",
       "      <td>0.157622</td>\n",
       "      <td>0.943376</td>\n",
       "    </tr>\n",
       "    <tr>\n",
       "      <th>4</th>\n",
       "      <td>0.147838</td>\n",
       "      <td>0.954780</td>\n",
       "      <td>0.222759</td>\n",
       "      <td>0.934664</td>\n",
       "    </tr>\n",
       "    <tr>\n",
       "      <th>5</th>\n",
       "      <td>0.144588</td>\n",
       "      <td>0.955733</td>\n",
       "      <td>0.182624</td>\n",
       "      <td>0.939020</td>\n",
       "    </tr>\n",
       "    <tr>\n",
       "      <th>6</th>\n",
       "      <td>0.135276</td>\n",
       "      <td>0.957184</td>\n",
       "      <td>0.192292</td>\n",
       "      <td>0.941379</td>\n",
       "    </tr>\n",
       "    <tr>\n",
       "      <th>7</th>\n",
       "      <td>0.132753</td>\n",
       "      <td>0.957320</td>\n",
       "      <td>0.195677</td>\n",
       "      <td>0.934301</td>\n",
       "    </tr>\n",
       "    <tr>\n",
       "      <th>8</th>\n",
       "      <td>0.132736</td>\n",
       "      <td>0.957139</td>\n",
       "      <td>0.176913</td>\n",
       "      <td>0.937387</td>\n",
       "    </tr>\n",
       "    <tr>\n",
       "      <th>9</th>\n",
       "      <td>0.129343</td>\n",
       "      <td>0.957774</td>\n",
       "      <td>0.174728</td>\n",
       "      <td>0.940290</td>\n",
       "    </tr>\n",
       "    <tr>\n",
       "      <th>10</th>\n",
       "      <td>0.125558</td>\n",
       "      <td>0.958862</td>\n",
       "      <td>0.153366</td>\n",
       "      <td>0.940653</td>\n",
       "    </tr>\n",
       "    <tr>\n",
       "      <th>11</th>\n",
       "      <td>0.119234</td>\n",
       "      <td>0.960178</td>\n",
       "      <td>0.169946</td>\n",
       "      <td>0.939564</td>\n",
       "    </tr>\n",
       "    <tr>\n",
       "      <th>12</th>\n",
       "      <td>0.120584</td>\n",
       "      <td>0.960042</td>\n",
       "      <td>0.179921</td>\n",
       "      <td>0.937568</td>\n",
       "    </tr>\n",
       "    <tr>\n",
       "      <th>13</th>\n",
       "      <td>0.117318</td>\n",
       "      <td>0.960949</td>\n",
       "      <td>0.175940</td>\n",
       "      <td>0.937568</td>\n",
       "    </tr>\n",
       "    <tr>\n",
       "      <th>14</th>\n",
       "      <td>0.113794</td>\n",
       "      <td>0.962037</td>\n",
       "      <td>0.172938</td>\n",
       "      <td>0.938112</td>\n",
       "    </tr>\n",
       "    <tr>\n",
       "      <th>15</th>\n",
       "      <td>0.110434</td>\n",
       "      <td>0.963217</td>\n",
       "      <td>0.176453</td>\n",
       "      <td>0.934301</td>\n",
       "    </tr>\n",
       "    <tr>\n",
       "      <th>16</th>\n",
       "      <td>0.105560</td>\n",
       "      <td>0.963126</td>\n",
       "      <td>0.171117</td>\n",
       "      <td>0.941016</td>\n",
       "    </tr>\n",
       "    <tr>\n",
       "      <th>17</th>\n",
       "      <td>0.108569</td>\n",
       "      <td>0.963035</td>\n",
       "      <td>0.173811</td>\n",
       "      <td>0.942287</td>\n",
       "    </tr>\n",
       "    <tr>\n",
       "      <th>18</th>\n",
       "      <td>0.108059</td>\n",
       "      <td>0.963806</td>\n",
       "      <td>0.172510</td>\n",
       "      <td>0.939564</td>\n",
       "    </tr>\n",
       "    <tr>\n",
       "      <th>19</th>\n",
       "      <td>0.103400</td>\n",
       "      <td>0.964985</td>\n",
       "      <td>0.187377</td>\n",
       "      <td>0.934301</td>\n",
       "    </tr>\n",
       "  </tbody>\n",
       "</table>\n",
       "</div>"
      ],
      "text/plain": [
       "        loss  accuracy  val_loss  val_accuracy\n",
       "0   0.548380  0.712990  0.270644      0.931579\n",
       "1   0.194847  0.940448  0.185248      0.937205\n",
       "2   0.168702  0.950109  0.165380      0.937568\n",
       "3   0.162092  0.952014  0.157622      0.943376\n",
       "4   0.147838  0.954780  0.222759      0.934664\n",
       "5   0.144588  0.955733  0.182624      0.939020\n",
       "6   0.135276  0.957184  0.192292      0.941379\n",
       "7   0.132753  0.957320  0.195677      0.934301\n",
       "8   0.132736  0.957139  0.176913      0.937387\n",
       "9   0.129343  0.957774  0.174728      0.940290\n",
       "10  0.125558  0.958862  0.153366      0.940653\n",
       "11  0.119234  0.960178  0.169946      0.939564\n",
       "12  0.120584  0.960042  0.179921      0.937568\n",
       "13  0.117318  0.960949  0.175940      0.937568\n",
       "14  0.113794  0.962037  0.172938      0.938112\n",
       "15  0.110434  0.963217  0.176453      0.934301\n",
       "16  0.105560  0.963126  0.171117      0.941016\n",
       "17  0.108569  0.963035  0.173811      0.942287\n",
       "18  0.108059  0.963806  0.172510      0.939564\n",
       "19  0.103400  0.964985  0.187377      0.934301"
      ]
     },
     "execution_count": 10,
     "metadata": {},
     "output_type": "execute_result"
    }
   ],
   "source": [
    "summary = pd.DataFrame(model.history.history)\n",
    "summary"
   ]
  },
  {
   "cell_type": "code",
   "execution_count": 11,
   "id": "f9f7107d",
   "metadata": {
    "execution": {
     "iopub.execute_input": "2022-08-17T09:38:18.021678Z",
     "iopub.status.busy": "2022-08-17T09:38:18.021186Z",
     "iopub.status.idle": "2022-08-17T09:38:18.553685Z",
     "shell.execute_reply": "2022-08-17T09:38:18.552768Z"
    },
    "papermill": {
     "duration": 1.311411,
     "end_time": "2022-08-17T09:38:18.556447",
     "exception": false,
     "start_time": "2022-08-17T09:38:17.245036",
     "status": "completed"
    },
    "tags": []
   },
   "outputs": [
    {
     "data": {
      "image/png": "[encoded data removed]",
      "text/plain": [
       "<Figure size 432x288 with 1 Axes>"
      ]
     },
     "metadata": {
      "needs_background": "light"
     },
     "output_type": "display_data"
    },
    {
     "data": {
      "image/png": "[encoded data removed]",
      "text/plain": [
       "<Figure size 432x288 with 1 Axes>"
      ]
     },
     "metadata": {
      "needs_background": "light"
     },
     "output_type": "display_data"
    }
   ],
   "source": [
    "import matplotlib.pyplot as plt\n",
    "%matplotlib inline \n",
    "plt.plot(history.history[\"accuracy\"])\n",
    "plt.plot(history.history[\"val_accuracy\"])\n",
    "plt.title(\"Modelaccuracy\")\n",
    "plt.ylabel(\"Accuracy\")\n",
    "plt.xlabel(\"Epoch\")\n",
    "plt.legend([\"Train\",\"Test\"],loc=\"upper left\")\n",
    "plt.show()\n",
    "\n",
    "plt.plot(history.history[\"loss\"])\n",
    "plt.plot(history.history[\"val_loss\"])\n",
    "plt.title(\"Model loss\")\n",
    "plt.ylabel(\"loss\")\n",
    "plt.xlabel(\"Epoch\")\n",
    "plt.legend([\"Train\",\"Test\"],loc=\"upper left\")\n",
    "plt.show()"
   ]
  }
 ],
 "metadata": {
  "kernelspec": {
   "display_name": "Python 3 (ipykernel)",
   "language": "python",
   "name": "python3"
  },
  "language_info": {
   "codemirror_mode": {
    "name": "ipython",
    "version": 3
   },
   "file_extension": ".py",
   "mimetype": "text/x-python",
   "name": "python",
   "nbconvert_exporter": "python",
   "pygments_lexer": "ipython3",
   "version": "3.9.12"
  },
  "papermill": {
   "default_parameters": {},
   "duration": 1412.294261,
   "end_time": "2022-08-17T09:38:22.424562",
   "environment_variables": {},
   "exception": null,
   "input_path": "__notebook__.ipynb",
   "output_path": "__notebook__.ipynb",
   "parameters": {},
   "start_time": "2022-08-17T09:14:50.130301",
   "version": "2.3.4"
  },
  "toc": {
   "base_numbering": 1,
   "nav_menu": {},
   "number_sections": true,
   "sideBar": true,
   "skip_h1_title": false,
   "title_cell": "Table of Contents",
   "title_sidebar": "Contents",
   "toc_cell": false,
   "toc_position": {},
   "toc_section_display": true,
   "toc_window_display": false
  },
  "varInspector": {
   "cols": {
    "lenName": 16,
    "lenType": 16,
    "lenVar": 40
   },
   "kernels_config": {
    "python": {
     "delete_cmd_postfix": "",
     "delete_cmd_prefix": "del ",
     "library": "var_list.py",
     "varRefreshCmd": "print(var_dic_list())"
    },
    "r": {
     "delete_cmd_postfix": ") ",
     "delete_cmd_prefix": "rm(",
     "library": "var_list.r",
     "varRefreshCmd": "cat(var_dic_list()) "
    }
   },
   "types_to_exclude": [
    "module",
    "function",
    "builtin_function_or_method",
    "instance",
    "_Feature"
   ],
   "window_display": false
  }
 },
 "nbformat": 4,
 "nbformat_minor": 5
}
